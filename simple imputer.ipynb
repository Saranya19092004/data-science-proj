{
 "cells": [
  {
   "cell_type": "markdown",
   "id": "08ab24f7",
   "metadata": {},
   "source": [
    "Simple imputer"
   ]
  },
  {
   "cell_type": "code",
   "execution_count": 1,
   "id": "e97e5729",
   "metadata": {},
   "outputs": [],
   "source": [
    "import numpy as np \n",
    "import pandas as pd\n",
    "from sklearn.preprocessing import LabelEncoder, StandardScaler"
   ]
  },
  {
   "cell_type": "code",
   "execution_count": 2,
   "id": "f0ce0213",
   "metadata": {},
   "outputs": [
    {
     "data": {
      "text/html": [
       "<div>\n",
       "<style scoped>\n",
       "    .dataframe tbody tr th:only-of-type {\n",
       "        vertical-align: middle;\n",
       "    }\n",
       "\n",
       "    .dataframe tbody tr th {\n",
       "        vertical-align: top;\n",
       "    }\n",
       "\n",
       "    .dataframe thead th {\n",
       "        text-align: right;\n",
       "    }\n",
       "</style>\n",
       "<table border=\"1\" class=\"dataframe\">\n",
       "  <thead>\n",
       "    <tr style=\"text-align: right;\">\n",
       "      <th></th>\n",
       "      <th>Name</th>\n",
       "      <th>Universe</th>\n",
       "      <th>Alignment</th>\n",
       "      <th>Strength</th>\n",
       "      <th>Speed</th>\n",
       "      <th>Intelligence</th>\n",
       "      <th>Combat Skill</th>\n",
       "      <th>Weapon</th>\n",
       "      <th>Power Score</th>\n",
       "      <th>Popularity Score</th>\n",
       "    </tr>\n",
       "  </thead>\n",
       "  <tbody>\n",
       "    <tr>\n",
       "      <th>0</th>\n",
       "      <td>Iron Man #1</td>\n",
       "      <td>Marvel</td>\n",
       "      <td>Anti-Hero</td>\n",
       "      <td>1.0</td>\n",
       "      <td>1.0</td>\n",
       "      <td>2.0</td>\n",
       "      <td>5</td>\n",
       "      <td>Sword</td>\n",
       "      <td>65</td>\n",
       "      <td>40</td>\n",
       "    </tr>\n",
       "    <tr>\n",
       "      <th>1</th>\n",
       "      <td>Batman #1</td>\n",
       "      <td>DC</td>\n",
       "      <td>Anti-Hero</td>\n",
       "      <td>5.0</td>\n",
       "      <td>4.0</td>\n",
       "      <td>6.0</td>\n",
       "      <td>2</td>\n",
       "      <td>Shield</td>\n",
       "      <td>94</td>\n",
       "      <td>98</td>\n",
       "    </tr>\n",
       "    <tr>\n",
       "      <th>2</th>\n",
       "      <td>Joker #1</td>\n",
       "      <td>Marvel</td>\n",
       "      <td>Hero</td>\n",
       "      <td>3.0</td>\n",
       "      <td>9.0</td>\n",
       "      <td>2.0</td>\n",
       "      <td>5</td>\n",
       "      <td>Hammer</td>\n",
       "      <td>62</td>\n",
       "      <td>40</td>\n",
       "    </tr>\n",
       "    <tr>\n",
       "      <th>3</th>\n",
       "      <td>Thor #1</td>\n",
       "      <td>Marvel</td>\n",
       "      <td>Hero</td>\n",
       "      <td>1.0</td>\n",
       "      <td>6.0</td>\n",
       "      <td>2.0</td>\n",
       "      <td>8</td>\n",
       "      <td>Claws</td>\n",
       "      <td>83</td>\n",
       "      <td>91</td>\n",
       "    </tr>\n",
       "    <tr>\n",
       "      <th>4</th>\n",
       "      <td>Thanos #1</td>\n",
       "      <td>Marvel</td>\n",
       "      <td>Villain</td>\n",
       "      <td>4.0</td>\n",
       "      <td>3.0</td>\n",
       "      <td>2.0</td>\n",
       "      <td>9</td>\n",
       "      <td>Claws</td>\n",
       "      <td>78</td>\n",
       "      <td>77</td>\n",
       "    </tr>\n",
       "    <tr>\n",
       "      <th>...</th>\n",
       "      <td>...</td>\n",
       "      <td>...</td>\n",
       "      <td>...</td>\n",
       "      <td>...</td>\n",
       "      <td>...</td>\n",
       "      <td>...</td>\n",
       "      <td>...</td>\n",
       "      <td>...</td>\n",
       "      <td>...</td>\n",
       "      <td>...</td>\n",
       "    </tr>\n",
       "    <tr>\n",
       "      <th>195</th>\n",
       "      <td>Doctor Strange #10</td>\n",
       "      <td>DC</td>\n",
       "      <td>Villain</td>\n",
       "      <td>7.0</td>\n",
       "      <td>5.0</td>\n",
       "      <td>8.0</td>\n",
       "      <td>1</td>\n",
       "      <td>Sword</td>\n",
       "      <td>68</td>\n",
       "      <td>9</td>\n",
       "    </tr>\n",
       "    <tr>\n",
       "      <th>196</th>\n",
       "      <td>Hulk #10</td>\n",
       "      <td>DC</td>\n",
       "      <td>Anti-Hero</td>\n",
       "      <td>9.0</td>\n",
       "      <td>2.0</td>\n",
       "      <td>6.0</td>\n",
       "      <td>8</td>\n",
       "      <td>Shield</td>\n",
       "      <td>90</td>\n",
       "      <td>38</td>\n",
       "    </tr>\n",
       "    <tr>\n",
       "      <th>197</th>\n",
       "      <td>Aquaman #10</td>\n",
       "      <td>DC</td>\n",
       "      <td>Hero</td>\n",
       "      <td>3.0</td>\n",
       "      <td>3.0</td>\n",
       "      <td>7.0</td>\n",
       "      <td>7</td>\n",
       "      <td>Sword</td>\n",
       "      <td>97</td>\n",
       "      <td>48</td>\n",
       "    </tr>\n",
       "    <tr>\n",
       "      <th>198</th>\n",
       "      <td>Catwoman #10</td>\n",
       "      <td>Marvel</td>\n",
       "      <td>Hero</td>\n",
       "      <td>9.0</td>\n",
       "      <td>NaN</td>\n",
       "      <td>3.0</td>\n",
       "      <td>7</td>\n",
       "      <td>Magic</td>\n",
       "      <td>42</td>\n",
       "      <td>60</td>\n",
       "    </tr>\n",
       "    <tr>\n",
       "      <th>199</th>\n",
       "      <td>Wolverine #10</td>\n",
       "      <td>Marvel</td>\n",
       "      <td>Hero</td>\n",
       "      <td>1.0</td>\n",
       "      <td>6.0</td>\n",
       "      <td>NaN</td>\n",
       "      <td>3</td>\n",
       "      <td>Bow</td>\n",
       "      <td>95</td>\n",
       "      <td>63</td>\n",
       "    </tr>\n",
       "  </tbody>\n",
       "</table>\n",
       "<p>200 rows × 10 columns</p>\n",
       "</div>"
      ],
      "text/plain": [
       "                   Name Universe  Alignment  Strength  Speed  Intelligence  \\\n",
       "0           Iron Man #1   Marvel  Anti-Hero       1.0    1.0           2.0   \n",
       "1             Batman #1       DC  Anti-Hero       5.0    4.0           6.0   \n",
       "2              Joker #1   Marvel       Hero       3.0    9.0           2.0   \n",
       "3               Thor #1   Marvel       Hero       1.0    6.0           2.0   \n",
       "4             Thanos #1   Marvel    Villain       4.0    3.0           2.0   \n",
       "..                  ...      ...        ...       ...    ...           ...   \n",
       "195  Doctor Strange #10       DC    Villain       7.0    5.0           8.0   \n",
       "196            Hulk #10       DC  Anti-Hero       9.0    2.0           6.0   \n",
       "197         Aquaman #10       DC       Hero       3.0    3.0           7.0   \n",
       "198        Catwoman #10   Marvel       Hero       9.0    NaN           3.0   \n",
       "199       Wolverine #10   Marvel       Hero       1.0    6.0           NaN   \n",
       "\n",
       "     Combat Skill  Weapon  Power Score  Popularity Score  \n",
       "0               5   Sword           65                40  \n",
       "1               2  Shield           94                98  \n",
       "2               5  Hammer           62                40  \n",
       "3               8   Claws           83                91  \n",
       "4               9   Claws           78                77  \n",
       "..            ...     ...          ...               ...  \n",
       "195             1   Sword           68                 9  \n",
       "196             8  Shield           90                38  \n",
       "197             7   Sword           97                48  \n",
       "198             7   Magic           42                60  \n",
       "199             3     Bow           95                63  \n",
       "\n",
       "[200 rows x 10 columns]"
      ]
     },
     "execution_count": 2,
     "metadata": {},
     "output_type": "execute_result"
    }
   ],
   "source": [
    "df=pd.read_csv('superhero_abilities_dataset (Linear).csv')\n",
    "df"
   ]
  },
  {
   "cell_type": "code",
   "execution_count": 13,
   "id": "298449f1",
   "metadata": {},
   "outputs": [
    {
     "name": "stdout",
     "output_type": "stream",
     "text": [
      "<class 'pandas.core.frame.DataFrame'>\n",
      "RangeIndex: 200 entries, 0 to 199\n",
      "Data columns (total 10 columns):\n",
      " #   Column            Non-Null Count  Dtype  \n",
      "---  ------            --------------  -----  \n",
      " 0   Name              200 non-null    int64  \n",
      " 1   Universe          200 non-null    int64  \n",
      " 2   Alignment         200 non-null    int64  \n",
      " 3   Strength          200 non-null    float64\n",
      " 4   Speed             200 non-null    float64\n",
      " 5   Intelligence      200 non-null    float64\n",
      " 6   Combat Skill      200 non-null    int64  \n",
      " 7   Weapon            200 non-null    int64  \n",
      " 8   Power Score       200 non-null    int64  \n",
      " 9   Popularity Score  200 non-null    int64  \n",
      "dtypes: float64(3), int64(7)\n",
      "memory usage: 15.8 KB\n"
     ]
    }
   ],
   "source": [
    "df.info()"
   ]
  },
  {
   "cell_type": "code",
   "execution_count": 11,
   "id": "17578d7e",
   "metadata": {},
   "outputs": [
    {
     "data": {
      "text/plain": [
       "Name                0\n",
       "Universe            0\n",
       "Alignment           0\n",
       "Strength            0\n",
       "Speed               0\n",
       "Intelligence        0\n",
       "Combat Skill        0\n",
       "Weapon              0\n",
       "Power Score         0\n",
       "Popularity Score    0\n",
       "dtype: int64"
      ]
     },
     "execution_count": 11,
     "metadata": {},
     "output_type": "execute_result"
    }
   ],
   "source": [
    "df.isnull().sum()"
   ]
  },
  {
   "cell_type": "code",
   "execution_count": 10,
   "id": "5332286c",
   "metadata": {},
   "outputs": [],
   "source": [
    "\n",
    "df['Weapon']=df['Weapon'].fillna(df['Weapon'].mode()[0])"
   ]
  },
  {
   "cell_type": "markdown",
   "id": "c1b31798",
   "metadata": {},
   "source": [
    "Simple Imputer"
   ]
  },
  {
   "cell_type": "code",
   "execution_count": 8,
   "id": "f61ab2f9",
   "metadata": {},
   "outputs": [],
   "source": [
    "from sklearn.impute import SimpleImputer\n",
    "imputer=SimpleImputer(strategy='median')\n",
    "df['Strength']=imputer.fit_transform(df[['Strength']])\n",
    "df['Speed']=imputer.fit_transform(df[['Speed']])\n",
    "df['Intelligence']=imputer.fit_transform(df[['Intelligence']])"
   ]
  },
  {
   "cell_type": "code",
   "execution_count": 12,
   "id": "b03c2f87",
   "metadata": {},
   "outputs": [],
   "source": [
    "le=LabelEncoder()\n",
    "df['Name']=le.fit_transform(df['Name'])\n",
    "df['Universe']=le.fit_transform(df['Universe'])\n",
    "df['Alignment']=le.fit_transform(df['Alignment'])\n",
    "df['Weapon']=le.fit_transform(df['Weapon'])"
   ]
  },
  {
   "cell_type": "code",
   "execution_count": 14,
   "id": "f8411f38",
   "metadata": {},
   "outputs": [
    {
     "data": {
      "text/plain": [
       "array([[ 0.18186761,  1.        , -1.2241414 , ..., -0.13572186,\n",
       "         1.40620374, -0.37363626],\n",
       "       [-1.55020485, -1.        , -1.2241414 , ..., -1.19329479,\n",
       "         0.9474097 ,  1.59913599],\n",
       "       [ 0.35507485,  1.        ,  0.03138824, ..., -0.13572186,\n",
       "        -0.42897243, -0.37363626],\n",
       "       ...,\n",
       "       [-1.70609137, -1.        ,  0.03138824, ...,  0.56932676,\n",
       "         1.40620374, -0.10152974],\n",
       "       [-1.01326239,  1.        ,  0.03138824, ...,  0.56932676,\n",
       "         0.02982161,  0.30663003],\n",
       "       [ 1.41163905,  1.        ,  0.03138824, ..., -0.84077048,\n",
       "        -1.34656051,  0.40866998]], shape=(200, 9))"
      ]
     },
     "execution_count": 14,
     "metadata": {},
     "output_type": "execute_result"
    }
   ],
   "source": [
    "x=df.drop(['Power Score'],axis=1)\n",
    "y=df['Power Score']\n",
    "sc=StandardScaler()\n",
    "x=sc.fit_transform(x)\n",
    "x"
   ]
  },
  {
   "cell_type": "code",
   "execution_count": 15,
   "id": "0e507115",
   "metadata": {},
   "outputs": [],
   "source": [
    "from sklearn.model_selection import train_test_split\n",
    "x_train, x_test, y_train, y_test= train_test_split(x, y, test_size=0.30, random_state=42)\n",
    "from sklearn.linear_model import LinearRegression\n",
    "model=LinearRegression() #call a variable for the model\n",
    "model.fit(x_train,y_train) #fit the x_train and y_train in the model\n",
    "y_pred=model.predict(x_test)"
   ]
  },
  {
   "cell_type": "code",
   "execution_count": 16,
   "id": "1b742fcf",
   "metadata": {},
   "outputs": [
    {
     "name": "stdout",
     "output_type": "stream",
     "text": [
      "-0.10308900288400524\n",
      "17.395881742192135\n",
      "406.87897491794405\n"
     ]
    }
   ],
   "source": [
    "from sklearn.metrics import r2_score\n",
    "print(r2_score(y_test, y_pred))\n",
    "from sklearn.metrics import mean_absolute_error\n",
    "print(mean_absolute_error(y_test, y_pred))\n",
    "from sklearn.metrics import mean_squared_error\n",
    "print(mean_squared_error(y_test, y_pred)) "
   ]
  }
 ],
 "metadata": {
  "kernelspec": {
   "display_name": "Python 3",
   "language": "python",
   "name": "python3"
  },
  "language_info": {
   "codemirror_mode": {
    "name": "ipython",
    "version": 3
   },
   "file_extension": ".py",
   "mimetype": "text/x-python",
   "name": "python",
   "nbconvert_exporter": "python",
   "pygments_lexer": "ipython3",
   "version": "3.13.5"
  }
 },
 "nbformat": 4,
 "nbformat_minor": 5
}
