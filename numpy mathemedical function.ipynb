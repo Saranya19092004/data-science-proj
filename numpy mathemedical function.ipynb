{
 "cells": [
  {
   "cell_type": "code",
   "execution_count": 1,
   "id": "9f28c4e6",
   "metadata": {},
   "outputs": [
    {
     "name": "stdout",
     "output_type": "stream",
     "text": [
      "[ 0  1  2  3  4  5  6  7  8  9 10 11 12 13 14 15 16 17]\n",
      "[20 21 22 23 24 25 26 27 28 29 30 31 32 33 34 35 36 37]\n"
     ]
    }
   ],
   "source": [
    "import numpy as np\n",
    "a=np.arange(0,18)\n",
    "b=np.arange(20,38)\n",
    "print(a)\n",
    "print(b)"
   ]
  },
  {
   "cell_type": "code",
   "execution_count": 2,
   "id": "16c3d4a5",
   "metadata": {},
   "outputs": [
    {
     "data": {
      "text/plain": [
       "array([20, 22, 24, 26, 28, 30, 32, 34, 36, 38, 40, 42, 44, 46, 48, 50, 52,\n",
       "       54])"
      ]
     },
     "execution_count": 2,
     "metadata": {},
     "output_type": "execute_result"
    }
   ],
   "source": [
    "np.add(a,b)"
   ]
  },
  {
   "cell_type": "code",
   "execution_count": 3,
   "id": "29ec7901",
   "metadata": {},
   "outputs": [
    {
     "data": {
      "text/plain": [
       "array([-20, -20, -20, -20, -20, -20, -20, -20, -20, -20, -20, -20, -20,\n",
       "       -20, -20, -20, -20, -20])"
      ]
     },
     "execution_count": 3,
     "metadata": {},
     "output_type": "execute_result"
    }
   ],
   "source": [
    "np.subtract(a,b)"
   ]
  },
  {
   "cell_type": "code",
   "execution_count": 4,
   "id": "4630d4fa",
   "metadata": {},
   "outputs": [
    {
     "data": {
      "text/plain": [
       "array([  0,  21,  44,  69,  96, 125, 156, 189, 224, 261, 300, 341, 384,\n",
       "       429, 476, 525, 576, 629])"
      ]
     },
     "execution_count": 4,
     "metadata": {},
     "output_type": "execute_result"
    }
   ],
   "source": [
    "np.multiply(a,b)"
   ]
  },
  {
   "cell_type": "code",
   "execution_count": 5,
   "id": "0d2eca7c",
   "metadata": {},
   "outputs": [
    {
     "data": {
      "text/plain": [
       "array([0.        , 0.04761905, 0.09090909, 0.13043478, 0.16666667,\n",
       "       0.2       , 0.23076923, 0.25925926, 0.28571429, 0.31034483,\n",
       "       0.33333333, 0.35483871, 0.375     , 0.39393939, 0.41176471,\n",
       "       0.42857143, 0.44444444, 0.45945946])"
      ]
     },
     "execution_count": 5,
     "metadata": {},
     "output_type": "execute_result"
    }
   ],
   "source": [
    "np.divide(a,b)"
   ]
  },
  {
   "cell_type": "code",
   "execution_count": 6,
   "id": "8da96868",
   "metadata": {},
   "outputs": [
    {
     "data": {
      "text/plain": [
       "np.int64(153)"
      ]
     },
     "execution_count": 6,
     "metadata": {},
     "output_type": "execute_result"
    }
   ],
   "source": [
    "np.sum(a)"
   ]
  },
  {
   "cell_type": "code",
   "execution_count": 7,
   "id": "eb8f0bfe",
   "metadata": {},
   "outputs": [
    {
     "data": {
      "text/plain": [
       "np.int64(513)"
      ]
     },
     "execution_count": 7,
     "metadata": {},
     "output_type": "execute_result"
    }
   ],
   "source": [
    "np.sum(b)"
   ]
  },
  {
   "cell_type": "code",
   "execution_count": 8,
   "id": "7b1766a4",
   "metadata": {},
   "outputs": [
    {
     "data": {
      "text/plain": [
       "np.int64(153)"
      ]
     },
     "execution_count": 8,
     "metadata": {},
     "output_type": "execute_result"
    }
   ],
   "source": [
    "np.sum(a,axis=0)"
   ]
  },
  {
   "cell_type": "code",
   "execution_count": 9,
   "id": "9ac1f10b",
   "metadata": {},
   "outputs": [
    {
     "data": {
      "text/plain": [
       "np.float64(28.5)"
      ]
     },
     "execution_count": 9,
     "metadata": {},
     "output_type": "execute_result"
    }
   ],
   "source": [
    "np.mean(b)"
   ]
  },
  {
   "cell_type": "code",
   "execution_count": 10,
   "id": "af46bb33",
   "metadata": {},
   "outputs": [
    {
     "data": {
      "text/plain": [
       "np.float64(28.5)"
      ]
     },
     "execution_count": 10,
     "metadata": {},
     "output_type": "execute_result"
    }
   ],
   "source": [
    "#np.std(a)\n",
    "np.median(b)"
   ]
  },
  {
   "cell_type": "code",
   "execution_count": 11,
   "id": "d59a2646",
   "metadata": {},
   "outputs": [
    {
     "data": {
      "text/plain": [
       "ModeResult(mode=np.int64(20), count=np.int64(1))"
      ]
     },
     "execution_count": 11,
     "metadata": {},
     "output_type": "execute_result"
    }
   ],
   "source": [
    "from scipy import stats\n",
    "#stats.mode(a)\n",
    "stats.mode(b)\n",
    "#print(np.median(a))\n",
    "#stats.mode(df['marks'])"
   ]
  },
  {
   "cell_type": "code",
   "execution_count": 16,
   "id": "6f7773d5",
   "metadata": {},
   "outputs": [
    {
     "name": "stdout",
     "output_type": "stream",
     "text": [
      "my name is saranya\n",
      "my name issaranya\n",
      "MY NAME IS SARANYA\n",
      "my name is saranya\n",
      "['my', 'name', 'is']\n",
      "['saranya']\n",
      "***************my name is***************\n",
      "****************saranya*****************\n",
      "my age is\n",
      "21\n"
     ]
    }
   ],
   "source": [
    "x=\"my name is\"\n",
    "y=\"saranya\"\n",
    "print(x,y)\n",
    "print(np.char.add(x,y))\n",
    "print(np.char.upper(x), np.char.upper(y))\n",
    "print(np.char.lower(x), np.char.lower(y))\n",
    "print(np.char.split(x))\n",
    "print(np.char.split(y))\n",
    "print(np.char.center(x,40,fillchar=\"*\"))\n",
    "print(np.char.center(y,40,fillchar=\"*\"))\n",
    "print(np.char.replace(x, \"name\", \"age\"))\n",
    "print(np.char.replace(y, \"saranya\", \"21\"))"
   ]
  }
 ],
 "metadata": {
  "kernelspec": {
   "display_name": "Python 3",
   "language": "python",
   "name": "python3"
  },
  "language_info": {
   "codemirror_mode": {
    "name": "ipython",
    "version": 3
   },
   "file_extension": ".py",
   "mimetype": "text/x-python",
   "name": "python",
   "nbconvert_exporter": "python",
   "pygments_lexer": "ipython3",
   "version": "3.13.4"
  }
 },
 "nbformat": 4,
 "nbformat_minor": 5
}
