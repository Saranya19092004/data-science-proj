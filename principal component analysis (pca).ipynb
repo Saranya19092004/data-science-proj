{
 "cells": [
  {
   "cell_type": "code",
   "execution_count": 6,
   "id": "459a3d1c",
   "metadata": {},
   "outputs": [
    {
     "data": {
      "text/html": [
       "<div>\n",
       "<style scoped>\n",
       "    .dataframe tbody tr th:only-of-type {\n",
       "        vertical-align: middle;\n",
       "    }\n",
       "\n",
       "    .dataframe tbody tr th {\n",
       "        vertical-align: top;\n",
       "    }\n",
       "\n",
       "    .dataframe thead th {\n",
       "        text-align: right;\n",
       "    }\n",
       "</style>\n",
       "<table border=\"1\" class=\"dataframe\">\n",
       "  <thead>\n",
       "    <tr style=\"text-align: right;\">\n",
       "      <th></th>\n",
       "      <th>date</th>\n",
       "      <th>price</th>\n",
       "      <th>bedrooms</th>\n",
       "      <th>bathrooms</th>\n",
       "      <th>sqft_living</th>\n",
       "      <th>sqft_lot</th>\n",
       "      <th>floors</th>\n",
       "      <th>waterfront</th>\n",
       "      <th>view</th>\n",
       "      <th>condition</th>\n",
       "      <th>sqft_above</th>\n",
       "      <th>sqft_basement</th>\n",
       "      <th>yr_built</th>\n",
       "      <th>yr_renovated</th>\n",
       "      <th>street</th>\n",
       "      <th>city</th>\n",
       "      <th>statezip</th>\n",
       "      <th>country</th>\n",
       "    </tr>\n",
       "  </thead>\n",
       "  <tbody>\n",
       "    <tr>\n",
       "      <th>0</th>\n",
       "      <td>2014-05-02 00:00:00</td>\n",
       "      <td>313000.0</td>\n",
       "      <td>3.0</td>\n",
       "      <td>1.50</td>\n",
       "      <td>1340</td>\n",
       "      <td>7912</td>\n",
       "      <td>1.5</td>\n",
       "      <td>0</td>\n",
       "      <td>0</td>\n",
       "      <td>3</td>\n",
       "      <td>1340</td>\n",
       "      <td>0</td>\n",
       "      <td>1955</td>\n",
       "      <td>2005</td>\n",
       "      <td>18810 Densmore Ave N</td>\n",
       "      <td>Shoreline</td>\n",
       "      <td>WA 98133</td>\n",
       "      <td>USA</td>\n",
       "    </tr>\n",
       "    <tr>\n",
       "      <th>1</th>\n",
       "      <td>2014-05-02 00:00:00</td>\n",
       "      <td>2384000.0</td>\n",
       "      <td>5.0</td>\n",
       "      <td>2.50</td>\n",
       "      <td>3650</td>\n",
       "      <td>9050</td>\n",
       "      <td>2.0</td>\n",
       "      <td>0</td>\n",
       "      <td>4</td>\n",
       "      <td>5</td>\n",
       "      <td>3370</td>\n",
       "      <td>280</td>\n",
       "      <td>1921</td>\n",
       "      <td>0</td>\n",
       "      <td>709 W Blaine St</td>\n",
       "      <td>Seattle</td>\n",
       "      <td>WA 98119</td>\n",
       "      <td>USA</td>\n",
       "    </tr>\n",
       "    <tr>\n",
       "      <th>2</th>\n",
       "      <td>2014-05-02 00:00:00</td>\n",
       "      <td>342000.0</td>\n",
       "      <td>3.0</td>\n",
       "      <td>2.00</td>\n",
       "      <td>1930</td>\n",
       "      <td>11947</td>\n",
       "      <td>1.0</td>\n",
       "      <td>0</td>\n",
       "      <td>0</td>\n",
       "      <td>4</td>\n",
       "      <td>1930</td>\n",
       "      <td>0</td>\n",
       "      <td>1966</td>\n",
       "      <td>0</td>\n",
       "      <td>26206-26214 143rd Ave SE</td>\n",
       "      <td>Kent</td>\n",
       "      <td>WA 98042</td>\n",
       "      <td>USA</td>\n",
       "    </tr>\n",
       "    <tr>\n",
       "      <th>3</th>\n",
       "      <td>2014-05-02 00:00:00</td>\n",
       "      <td>420000.0</td>\n",
       "      <td>3.0</td>\n",
       "      <td>2.25</td>\n",
       "      <td>2000</td>\n",
       "      <td>8030</td>\n",
       "      <td>1.0</td>\n",
       "      <td>0</td>\n",
       "      <td>0</td>\n",
       "      <td>4</td>\n",
       "      <td>1000</td>\n",
       "      <td>1000</td>\n",
       "      <td>1963</td>\n",
       "      <td>0</td>\n",
       "      <td>857 170th Pl NE</td>\n",
       "      <td>Bellevue</td>\n",
       "      <td>WA 98008</td>\n",
       "      <td>USA</td>\n",
       "    </tr>\n",
       "    <tr>\n",
       "      <th>4</th>\n",
       "      <td>2014-05-02 00:00:00</td>\n",
       "      <td>550000.0</td>\n",
       "      <td>4.0</td>\n",
       "      <td>2.50</td>\n",
       "      <td>1940</td>\n",
       "      <td>10500</td>\n",
       "      <td>1.0</td>\n",
       "      <td>0</td>\n",
       "      <td>0</td>\n",
       "      <td>4</td>\n",
       "      <td>1140</td>\n",
       "      <td>800</td>\n",
       "      <td>1976</td>\n",
       "      <td>1992</td>\n",
       "      <td>9105 170th Ave NE</td>\n",
       "      <td>Redmond</td>\n",
       "      <td>WA 98052</td>\n",
       "      <td>USA</td>\n",
       "    </tr>\n",
       "  </tbody>\n",
       "</table>\n",
       "</div>"
      ],
      "text/plain": [
       "                  date      price  bedrooms  bathrooms  sqft_living  sqft_lot  \\\n",
       "0  2014-05-02 00:00:00   313000.0       3.0       1.50         1340      7912   \n",
       "1  2014-05-02 00:00:00  2384000.0       5.0       2.50         3650      9050   \n",
       "2  2014-05-02 00:00:00   342000.0       3.0       2.00         1930     11947   \n",
       "3  2014-05-02 00:00:00   420000.0       3.0       2.25         2000      8030   \n",
       "4  2014-05-02 00:00:00   550000.0       4.0       2.50         1940     10500   \n",
       "\n",
       "   floors  waterfront  view  condition  sqft_above  sqft_basement  yr_built  \\\n",
       "0     1.5           0     0          3        1340              0      1955   \n",
       "1     2.0           0     4          5        3370            280      1921   \n",
       "2     1.0           0     0          4        1930              0      1966   \n",
       "3     1.0           0     0          4        1000           1000      1963   \n",
       "4     1.0           0     0          4        1140            800      1976   \n",
       "\n",
       "   yr_renovated                    street       city  statezip country  \n",
       "0          2005      18810 Densmore Ave N  Shoreline  WA 98133     USA  \n",
       "1             0           709 W Blaine St    Seattle  WA 98119     USA  \n",
       "2             0  26206-26214 143rd Ave SE       Kent  WA 98042     USA  \n",
       "3             0           857 170th Pl NE   Bellevue  WA 98008     USA  \n",
       "4          1992         9105 170th Ave NE    Redmond  WA 98052     USA  "
      ]
     },
     "execution_count": 6,
     "metadata": {},
     "output_type": "execute_result"
    }
   ],
   "source": [
    "import pandas as pd\n",
    "df=pd.read_csv(\"vs code practice/house price linear data set.csv\")\n",
    "df.head()"
   ]
  },
  {
   "cell_type": "code",
   "execution_count": 7,
   "id": "8614109a",
   "metadata": {},
   "outputs": [
    {
     "data": {
      "text/plain": [
       "(4600, 18)"
      ]
     },
     "execution_count": 7,
     "metadata": {},
     "output_type": "execute_result"
    }
   ],
   "source": [
    "df.shape"
   ]
  },
  {
   "cell_type": "code",
   "execution_count": 8,
   "id": "72a16b8a",
   "metadata": {},
   "outputs": [
    {
     "name": "stdout",
     "output_type": "stream",
     "text": [
      "<class 'pandas.core.frame.DataFrame'>\n",
      "RangeIndex: 4600 entries, 0 to 4599\n",
      "Data columns (total 18 columns):\n",
      " #   Column         Non-Null Count  Dtype  \n",
      "---  ------         --------------  -----  \n",
      " 0   date           4600 non-null   object \n",
      " 1   price          4600 non-null   float64\n",
      " 2   bedrooms       4600 non-null   float64\n",
      " 3   bathrooms      4600 non-null   float64\n",
      " 4   sqft_living    4600 non-null   int64  \n",
      " 5   sqft_lot       4600 non-null   int64  \n",
      " 6   floors         4600 non-null   float64\n",
      " 7   waterfront     4600 non-null   int64  \n",
      " 8   view           4600 non-null   int64  \n",
      " 9   condition      4600 non-null   int64  \n",
      " 10  sqft_above     4600 non-null   int64  \n",
      " 11  sqft_basement  4600 non-null   int64  \n",
      " 12  yr_built       4600 non-null   int64  \n",
      " 13  yr_renovated   4600 non-null   int64  \n",
      " 14  street         4600 non-null   object \n",
      " 15  city           4600 non-null   object \n",
      " 16  statezip       4600 non-null   object \n",
      " 17  country        4600 non-null   object \n",
      "dtypes: float64(4), int64(9), object(5)\n",
      "memory usage: 647.0+ KB\n"
     ]
    }
   ],
   "source": [
    "df.info()"
   ]
  },
  {
   "cell_type": "code",
   "execution_count": 11,
   "id": "9c2039b8",
   "metadata": {},
   "outputs": [],
   "source": [
    "from sklearn.preprocessing import LabelEncoder\n",
    "le=LabelEncoder()\n",
    "df['date']=le.fit_transform(df['date'])\n",
    "df['street']=le.fit_transform(df['street'])\n",
    "df['city']=le.fit_transform(df['city'])\n",
    "df['statezip']=le.fit_transform(df['statezip'])\n",
    "df['country']=le.fit_transform(df['country'])"
   ]
  },
  {
   "cell_type": "code",
   "execution_count": 12,
   "id": "117fd027",
   "metadata": {},
   "outputs": [
    {
     "data": {
      "text/plain": [
       "date             0\n",
       "price            0\n",
       "bedrooms         0\n",
       "bathrooms        0\n",
       "sqft_living      0\n",
       "sqft_lot         0\n",
       "floors           0\n",
       "waterfront       0\n",
       "view             0\n",
       "condition        0\n",
       "sqft_above       0\n",
       "sqft_basement    0\n",
       "yr_built         0\n",
       "yr_renovated     0\n",
       "street           0\n",
       "city             0\n",
       "statezip         0\n",
       "country          0\n",
       "dtype: int64"
      ]
     },
     "execution_count": 12,
     "metadata": {},
     "output_type": "execute_result"
    }
   ],
   "source": [
    "df.isnull().sum()"
   ]
  },
  {
   "cell_type": "code",
   "execution_count": 13,
   "id": "4f821f74",
   "metadata": {},
   "outputs": [
    {
     "data": {
      "text/plain": [
       "array([[-1.83371327, -0.42386353, -0.44112227, ...,  0.8618055 ,\n",
       "         1.11182456,  0.        ],\n",
       "       [-1.83371327,  3.2495981 ,  1.75970468, ...,  0.77834292,\n",
       "         0.92059477,  0.        ],\n",
       "       [-1.83371327, -0.37242442, -0.44112227, ..., -0.64052081,\n",
       "        -0.60924357,  0.        ],\n",
       "       ...,\n",
       "       [ 1.61700632, -0.23956224, -0.44112227, ...,  0.5279552 ,\n",
       "        -0.08336164,  0.        ],\n",
       "       [ 1.66775219, -0.61826787,  0.6592912 , ...,  0.77834292,\n",
       "         1.5420916 ,  0.        ],\n",
       "       [ 1.66775219, -0.58775916, -0.44112227, ..., -1.39168397,\n",
       "        -0.60924357,  0.        ]], shape=(4600, 18))"
      ]
     },
     "execution_count": 13,
     "metadata": {},
     "output_type": "execute_result"
    }
   ],
   "source": [
    "from sklearn.preprocessing import StandardScaler\n",
    "x=df\n",
    "sc=StandardScaler()\n",
    "x_scaled=sc.fit_transform(x)\n",
    "x_scaled"
   ]
  },
  {
   "cell_type": "code",
   "execution_count": 14,
   "id": "220fd0a9",
   "metadata": {},
   "outputs": [
    {
     "data": {
      "text/plain": [
       "array([[-1.83371327, -0.42386353, -0.44112227, ...,  0.8618055 ,\n",
       "         1.11182456,  0.        ],\n",
       "       [-1.83371327,  3.2495981 ,  1.75970468, ...,  0.77834292,\n",
       "         0.92059477,  0.        ],\n",
       "       [-1.83371327, -0.37242442, -0.44112227, ..., -0.64052081,\n",
       "        -0.60924357,  0.        ],\n",
       "       ...,\n",
       "       [ 1.61700632, -0.23956224, -0.44112227, ...,  0.5279552 ,\n",
       "        -0.08336164,  0.        ],\n",
       "       [ 1.66775219, -0.61826787,  0.6592912 , ...,  0.77834292,\n",
       "         1.5420916 ,  0.        ],\n",
       "       [ 1.66775219, -0.58775916, -0.44112227, ..., -1.39168397,\n",
       "        -0.60924357,  0.        ]], shape=(4600, 18))"
      ]
     },
     "execution_count": 14,
     "metadata": {},
     "output_type": "execute_result"
    }
   ],
   "source": [
    "from sklearn.decomposition import PCA\n",
    "pca=PCA(n_components=6)\n",
    "x=pca.fit_transform(x_scaled)\n",
    "x_scaled"
   ]
  },
  {
   "cell_type": "code",
   "execution_count": 15,
   "id": "f60a9d19",
   "metadata": {},
   "outputs": [
    {
     "name": "stdout",
     "output_type": "stream",
     "text": [
      "egenvalues\n",
      "[4.04879599 2.14308675 1.68134769 1.21166394 1.1484107  1.01144243]\n",
      "eigenvector\n",
      "[[ 1.97907085e-02  2.24900304e-01  3.14744666e-01  4.31946453e-01\n",
      "   4.48984484e-01  1.09547787e-01  2.74915853e-01  6.95462026e-02\n",
      "   1.42499024e-01 -8.86406746e-02  4.35297698e-01  1.23163550e-01\n",
      "   2.70449560e-01 -1.34464030e-01 -3.20261116e-03 -1.17003150e-01\n",
      "  -1.77884883e-01 -0.00000000e+00]\n",
      " [-3.38042800e-03  2.34564647e-01  1.50271157e-01  3.67282665e-02\n",
      "   1.81820191e-01  1.84763940e-02 -2.54734108e-01  2.13107078e-01\n",
      "   3.72437544e-01  2.90723454e-01 -5.48703411e-02  4.79250442e-01\n",
      "  -4.07039482e-01  1.66920995e-01  8.19988095e-02  2.09798149e-01\n",
      "   2.77721342e-01 -0.00000000e+00]\n",
      " [ 9.45555189e-03  6.24138109e-02 -1.03541299e-01  7.10039419e-02\n",
      "  -2.64450834e-03 -1.39006002e-01  3.86372006e-01  4.05157828e-02\n",
      "   2.67618614e-02 -2.97968785e-01  1.03694734e-01 -1.98108633e-01\n",
      "   6.71360641e-02  6.50680112e-02  1.37817657e-01  5.99225730e-01\n",
      "   5.32626257e-01 -0.00000000e+00]\n",
      " [ 3.18163161e-02  5.73146549e-02 -3.03061407e-01 -1.19136135e-01\n",
      "  -7.96023735e-02  1.02267075e-01  6.46133902e-03  6.33513169e-01\n",
      "   4.25214975e-01 -3.32620431e-01 -7.42731194e-03 -1.51399100e-01\n",
      "   7.94508014e-02  2.43969489e-01  1.27168878e-01 -2.13146986e-01\n",
      "  -1.72131516e-01 -0.00000000e+00]\n",
      " [-1.69048151e-01 -5.25231859e-02  1.94873449e-01  2.28344659e-03\n",
      "   1.05100693e-01  1.61062604e-01 -1.60959273e-01 -2.61259042e-01\n",
      "  -1.53345814e-01 -4.64979067e-01  6.43210806e-02  9.86304723e-02\n",
      "  -6.14092703e-02  7.11815987e-01 -1.83459053e-01 -4.10875508e-02\n",
      "   1.21456932e-02 -0.00000000e+00]\n",
      " [ 8.78732427e-01  9.99124456e-02  6.42944371e-02  1.87837601e-04\n",
      "   5.40499602e-03 -3.46682522e-01 -1.63657211e-02  3.40130198e-03\n",
      "  -4.74512303e-02 -6.05890852e-02  6.35758421e-03 -5.92890014e-04\n",
      "  -3.59315352e-02  1.54615111e-01 -2.38272757e-01 -7.26345046e-02\n",
      "   2.36892506e-03 -0.00000000e+00]]\n"
     ]
    }
   ],
   "source": [
    "print(\"egenvalues\")\n",
    "print(pca.explained_variance_)\n",
    "print(\"eigenvector\")\n",
    "print(pca.components_)"
   ]
  },
  {
   "cell_type": "code",
   "execution_count": 16,
   "id": "83e967a1",
   "metadata": {},
   "outputs": [
    {
     "data": {
      "text/html": [
       "<div>\n",
       "<style scoped>\n",
       "    .dataframe tbody tr th:only-of-type {\n",
       "        vertical-align: middle;\n",
       "    }\n",
       "\n",
       "    .dataframe tbody tr th {\n",
       "        vertical-align: top;\n",
       "    }\n",
       "\n",
       "    .dataframe thead th {\n",
       "        text-align: right;\n",
       "    }\n",
       "</style>\n",
       "<table border=\"1\" class=\"dataframe\">\n",
       "  <thead>\n",
       "    <tr style=\"text-align: right;\">\n",
       "      <th></th>\n",
       "      <th>PC1</th>\n",
       "      <th>PC2</th>\n",
       "      <th>PC3</th>\n",
       "      <th>PC4</th>\n",
       "      <th>PC5</th>\n",
       "      <th>PC6</th>\n",
       "    </tr>\n",
       "  </thead>\n",
       "  <tbody>\n",
       "    <tr>\n",
       "      <th>0</th>\n",
       "      <td>-1.959049</td>\n",
       "      <td>-0.094706</td>\n",
       "      <td>1.298187</td>\n",
       "      <td>0.148711</td>\n",
       "      <td>1.391335</td>\n",
       "      <td>-1.284182</td>\n",
       "    </tr>\n",
       "    <tr>\n",
       "      <th>1</th>\n",
       "      <td>3.020558</td>\n",
       "      <td>4.479478</td>\n",
       "      <td>1.009185</td>\n",
       "      <td>0.144172</td>\n",
       "      <td>-1.932134</td>\n",
       "      <td>-1.899895</td>\n",
       "    </tr>\n",
       "    <tr>\n",
       "      <th>2</th>\n",
       "      <td>-0.617491</td>\n",
       "      <td>-0.554620</td>\n",
       "      <td>-1.242779</td>\n",
       "      <td>-0.242735</td>\n",
       "      <td>-0.567679</td>\n",
       "      <td>-1.749469</td>\n",
       "    </tr>\n",
       "    <tr>\n",
       "      <th>3</th>\n",
       "      <td>-0.356178</td>\n",
       "      <td>0.242448</td>\n",
       "      <td>-2.768162</td>\n",
       "      <td>-0.000988</td>\n",
       "      <td>-0.671128</td>\n",
       "      <td>-1.972456</td>\n",
       "    </tr>\n",
       "    <tr>\n",
       "      <th>4</th>\n",
       "      <td>-0.455991</td>\n",
       "      <td>1.224172</td>\n",
       "      <td>-0.569668</td>\n",
       "      <td>-0.439189</td>\n",
       "      <td>0.830882</td>\n",
       "      <td>-1.785978</td>\n",
       "    </tr>\n",
       "    <tr>\n",
       "      <th>...</th>\n",
       "      <td>...</td>\n",
       "      <td>...</td>\n",
       "      <td>...</td>\n",
       "      <td>...</td>\n",
       "      <td>...</td>\n",
       "      <td>...</td>\n",
       "    </tr>\n",
       "    <tr>\n",
       "      <th>4595</th>\n",
       "      <td>-1.981308</td>\n",
       "      <td>0.702259</td>\n",
       "      <td>0.728881</td>\n",
       "      <td>-0.101264</td>\n",
       "      <td>0.012791</td>\n",
       "      <td>1.342561</td>\n",
       "    </tr>\n",
       "    <tr>\n",
       "      <th>4596</th>\n",
       "      <td>0.173638</td>\n",
       "      <td>-1.928512</td>\n",
       "      <td>-1.251858</td>\n",
       "      <td>1.192128</td>\n",
       "      <td>0.765869</td>\n",
       "      <td>2.040095</td>\n",
       "    </tr>\n",
       "    <tr>\n",
       "      <th>4597</th>\n",
       "      <td>1.588354</td>\n",
       "      <td>-1.369995</td>\n",
       "      <td>1.408392</td>\n",
       "      <td>0.134014</td>\n",
       "      <td>-0.967513</td>\n",
       "      <td>0.963879</td>\n",
       "    </tr>\n",
       "    <tr>\n",
       "      <th>4598</th>\n",
       "      <td>-0.710311</td>\n",
       "      <td>1.108753</td>\n",
       "      <td>0.723747</td>\n",
       "      <td>-0.875397</td>\n",
       "      <td>-0.317431</td>\n",
       "      <td>1.180074</td>\n",
       "    </tr>\n",
       "    <tr>\n",
       "      <th>4599</th>\n",
       "      <td>0.058828</td>\n",
       "      <td>-1.658782</td>\n",
       "      <td>-0.974595</td>\n",
       "      <td>-0.029805</td>\n",
       "      <td>-1.453671</td>\n",
       "      <td>1.474173</td>\n",
       "    </tr>\n",
       "  </tbody>\n",
       "</table>\n",
       "<p>4600 rows × 6 columns</p>\n",
       "</div>"
      ],
      "text/plain": [
       "           PC1       PC2       PC3       PC4       PC5       PC6\n",
       "0    -1.959049 -0.094706  1.298187  0.148711  1.391335 -1.284182\n",
       "1     3.020558  4.479478  1.009185  0.144172 -1.932134 -1.899895\n",
       "2    -0.617491 -0.554620 -1.242779 -0.242735 -0.567679 -1.749469\n",
       "3    -0.356178  0.242448 -2.768162 -0.000988 -0.671128 -1.972456\n",
       "4    -0.455991  1.224172 -0.569668 -0.439189  0.830882 -1.785978\n",
       "...        ...       ...       ...       ...       ...       ...\n",
       "4595 -1.981308  0.702259  0.728881 -0.101264  0.012791  1.342561\n",
       "4596  0.173638 -1.928512 -1.251858  1.192128  0.765869  2.040095\n",
       "4597  1.588354 -1.369995  1.408392  0.134014 -0.967513  0.963879\n",
       "4598 -0.710311  1.108753  0.723747 -0.875397 -0.317431  1.180074\n",
       "4599  0.058828 -1.658782 -0.974595 -0.029805 -1.453671  1.474173\n",
       "\n",
       "[4600 rows x 6 columns]"
      ]
     },
     "execution_count": 16,
     "metadata": {},
     "output_type": "execute_result"
    }
   ],
   "source": [
    "transformed_df=pd.DataFrame(x,columns=[\"PC1\",\"PC2\",\"PC3\",\"PC4\",\"PC5\",\"PC6\"])\n",
    "transformed_df.to_csv(\"transformed_data.csv\")\n",
    "transformed_df"
   ]
  },
  {
   "cell_type": "code",
   "execution_count": 17,
   "id": "d7c01667",
   "metadata": {},
   "outputs": [
    {
     "data": {
      "image/png": "[encoded data removed]",
      "text/plain": [
       "<Figure size 640x480 with 1 Axes>"
      ]
     },
     "metadata": {},
     "output_type": "display_data"
    }
   ],
   "source": [
    "import matplotlib.pyplot as plt\n",
    "plt.style.use(\"ggplot\")\n",
    "plt.plot(pca.explained_variance_,marker='o')\n",
    "plt.title(\"scree plot\")\n",
    "plt.xlabel(\"principal components\")\n",
    "plt.ylabel(\"explained variance\")\n",
    "plt.show()"
   ]
  },
  {
   "cell_type": "code",
   "execution_count": 18,
   "id": "29fa9475",
   "metadata": {},
   "outputs": [
    {
     "data": {
      "text/plain": [
       "array([[-1.95904922, -0.09470557],\n",
       "       [ 3.02055844,  4.47947848],\n",
       "       [-0.61749124, -0.5546197 ],\n",
       "       ...,\n",
       "       [ 1.58835446, -1.36999487],\n",
       "       [-0.71031095,  1.10875271],\n",
       "       [ 0.05882828, -1.65878239]], shape=(4600, 2))"
      ]
     },
     "execution_count": 18,
     "metadata": {},
     "output_type": "execute_result"
    }
   ],
   "source": [
    "from sklearn.decomposition import PCA\n",
    "pca=PCA(n_components=2)\n",
    "x=pca.fit_transform(x_scaled)\n",
    "y_sklearn=pca.fit_transform(x_scaled)\n",
    "y_sklearn"
   ]
  },
  {
   "cell_type": "code",
   "execution_count": 19,
   "id": "e41ca002",
   "metadata": {},
   "outputs": [
    {
     "data": {
      "text/plain": [
       "(4600, 2)"
      ]
     },
     "execution_count": 19,
     "metadata": {},
     "output_type": "execute_result"
    }
   ],
   "source": [
    "y_sklearn.shape"
   ]
  }
 ],
 "metadata": {
  "kernelspec": {
   "display_name": "Python 3",
   "language": "python",
   "name": "python3"
  },
  "language_info": {
   "codemirror_mode": {
    "name": "ipython",
    "version": 3
   },
   "file_extension": ".py",
   "mimetype": "text/x-python",
   "name": "python",
   "nbconvert_exporter": "python",
   "pygments_lexer": "ipython3",
   "version": "3.13.4"
  }
 },
 "nbformat": 4,
 "nbformat_minor": 5
}
